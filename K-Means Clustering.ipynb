{
 "cells": [
  {
   "cell_type": "markdown",
   "metadata": {},
   "source": [
    "## K-Means Clustering Algorithms\n",
    "### ID: eo9232\n",
    "### Name: Md Reza\n",
    "### CSC 5825 - Fall 2021\n"
   ]
  },
  {
   "cell_type": "code",
   "execution_count": 1,
   "metadata": {},
   "outputs": [],
   "source": [
    "# Import requires packages and libraries\n",
    "import math\n",
    "import pandas as pd\n",
    "import csv\n",
    "import numpy as np\n",
    "import random\n",
    "\n",
    "from scipy.sparse import random as sparse_random\n",
    "from sklearn.metrics.cluster import adjusted_rand_score\n",
    "from sklearn.random_projection import sparse_random_matrix\n",
    "from sklearn.preprocessing import LabelEncoder, StandardScaler\n",
    "from sklearn.preprocessing import LabelEncoder,scale\n",
    "from sklearn.model_selection import train_test_split\n",
    "from sklearn.decomposition import TruncatedSVD\n",
    "from sklearn.decomposition import PCA\n",
    "from tabulate import tabulate\n",
    "import warnings\n",
    "warnings.filterwarnings('ignore')\n",
    "from itertools import combinations\n",
    "from scipy.special import comb"
   ]
  },
  {
   "cell_type": "markdown",
   "metadata": {},
   "source": [
    "##### Load the training and test data sets"
   ]
  },
  {
   "cell_type": "code",
   "execution_count": 2,
   "metadata": {},
   "outputs": [],
   "source": [
    "def load_training_set():\n",
    "    df_train = pd.read_csv(\"/u/mreza6/5825/Data/fashion-mnist_train.csv\")\n",
    "    return df_train"
   ]
  },
  {
   "cell_type": "code",
   "execution_count": 3,
   "metadata": {},
   "outputs": [],
   "source": [
    "def load_test_set():\n",
    "    df_test = pd.read_csv(\"/u/mreza6/5825/Data/fashion-mnist_test.csv\")\n",
    "    return df_test"
   ]
  },
  {
   "cell_type": "code",
   "execution_count": 4,
   "metadata": {},
   "outputs": [],
   "source": [
    "train_data = load_training_set()\n",
    "test_data = load_test_set()"
   ]
  },
  {
   "cell_type": "markdown",
   "metadata": {},
   "source": [
    "##### Create training and test features where each row uses a vector of dimension 784 with values between 0 (black) and 255 (white) on the gray color scale"
   ]
  },
  {
   "cell_type": "code",
   "execution_count": 5,
   "metadata": {},
   "outputs": [],
   "source": [
    "# Training\n",
    "X_Training_features = train_data.iloc[:,1:785]\n",
    "Y_Training_features = train_data.iloc[:,0]\n",
    "\n",
    "# Test\n",
    "X_Test_features =test_data.iloc[:,1:785]\n",
    "Y_Test_features = test_data.iloc[:,0]"
   ]
  },
  {
   "cell_type": "markdown",
   "metadata": {},
   "source": [
    "##### Test validation split"
   ]
  },
  {
   "cell_type": "code",
   "execution_count": 6,
   "metadata": {},
   "outputs": [],
   "source": [
    "X_Train, X_Val, y_train, y_val = train_test_split(X_Training_features, Y_Training_features, test_size=0.10, random_state=42)"
   ]
  },
  {
   "cell_type": "markdown",
   "metadata": {},
   "source": [
    "##### Scaling the input data"
   ]
  },
  {
   "cell_type": "code",
   "execution_count": 7,
   "metadata": {},
   "outputs": [],
   "source": [
    "scaler = StandardScaler()\n",
    "X_Train_features = scaler.fit_transform(X_Train)\n",
    "X_Val=StandardScaler().fit_transform(X_Val.values)\n",
    "X_Test = StandardScaler().fit_transform(X_Test_features.values)"
   ]
  },
  {
   "cell_type": "markdown",
   "metadata": {},
   "source": [
    "##### Implement PCA for dimensionality reduction"
   ]
  },
  {
   "cell_type": "code",
   "execution_count": 8,
   "metadata": {},
   "outputs": [],
   "source": [
    "pca = PCA(n_components=10)\n",
    "train_pca= pca.fit(X_Train_features).transform(X_Train_features)\n",
    "val_pca=pca.fit(X_Val).transform(X_Val)\n",
    "test_pca = pca.fit(X_Test).transform(X_Test)"
   ]
  },
  {
   "cell_type": "markdown",
   "metadata": {},
   "source": [
    "##### Implement the K-Means Algorithm"
   ]
  },
  {
   "cell_type": "code",
   "execution_count": 9,
   "metadata": {},
   "outputs": [],
   "source": [
    "class K_Means:\n",
    "    def __init__(self, k, tol=0.001, max_iter=300):\n",
    "        self.k = k\n",
    "        self.tol = tol\n",
    "        self.max_iter = max_iter\n",
    "\n",
    "    def fit(self, data):\n",
    "\n",
    "        self.centroids = {}\n",
    "        # Initialize Random Centroid\n",
    "        for i in range(self.k):\n",
    "            r = np.random.randint(0, 50)\n",
    "            self.centroids[i] = data[r]\n",
    "\n",
    "        for i in range(self.max_iter):\n",
    "            self.classifications = {}\n",
    "\n",
    "            for i in range(self.k):\n",
    "                self.classifications[i] = []\n",
    "\n",
    "            for featureset in data:\n",
    "                distances = [np.linalg.norm(featureset-self.centroids[centroid]) for centroid in self.centroids]\n",
    "                classification = distances.index(min(distances))\n",
    "                self.classifications[classification].append(featureset)\n",
    "\n",
    "            prev_centroids = dict(self.centroids)\n",
    "\n",
    "            for classification in self.classifications:\n",
    "                self.centroids[classification] = np.average(self.classifications[classification],axis=0)\n",
    "\n",
    "            optimized = True\n",
    "\n",
    "            for c in self.centroids:\n",
    "                original_centroid = prev_centroids[c]\n",
    "                current_centroid = self.centroids[c]\n",
    "                if np.sum((current_centroid-original_centroid)/original_centroid*100.0) > self.tol:\n",
    "                    optimized = False\n",
    "\n",
    "            if optimized:\n",
    "                break\n",
    "\n",
    "    def predict(self, data):\n",
    "        distances = [np.linalg.norm(data-self.centroids[centroid]) for centroid in self.centroids]\n",
    "        classification = distances.index(min(distances))\n",
    "        return classification"
   ]
  },
  {
   "cell_type": "markdown",
   "metadata": {},
   "source": [
    "##### Define RAND Index Function. Given the true and predicted labels, it will return the RAND Index."
   ]
  },
  {
   "cell_type": "code",
   "execution_count": 10,
   "metadata": {},
   "outputs": [],
   "source": [
    "def rand_index(labels_true, labels_pred):\n",
    "    my_pair = list(combinations(range(len(labels_true)), 2))\n",
    "\n",
    "    def is_equal(x):\n",
    "        return (x[0] == x[1])\n",
    "    \n",
    "    my_a = 0\n",
    "    my_b = 0\n",
    "    \n",
    "    for i in range(len(my_pair)):\n",
    "        if(is_equal((labels_true[my_pair[i][0]], labels_true[my_pair[i][1]])) == is_equal((labels_pred[my_pair[i][0]], labels_pred[my_pair[i][1]]))\n",
    "           and is_equal((labels_pred[my_pair[i][0]], labels_pred[my_pair[i][1]])) == True):\n",
    "            my_a += 1\n",
    "        if(is_equal((labels_true[my_pair[i][0]], labels_true[my_pair[i][1]])) == is_equal((labels_pred[my_pair[i][0]], labels_pred[my_pair[i][1]]))\n",
    "           and is_equal((labels_pred[my_pair[i][0]], labels_pred[my_pair[i][1]])) == False):\n",
    "            my_b += 1\n",
    "            \n",
    "    my_denom = comb(len(labels_true), 2)\n",
    "    RAND_index = (my_a + my_b) / my_denom\n",
    "    return RAND_index"
   ]
  },
  {
   "cell_type": "code",
   "execution_count": 11,
   "metadata": {},
   "outputs": [],
   "source": [
    "y_val=y_val.values.tolist()"
   ]
  },
  {
   "cell_type": "markdown",
   "metadata": {},
   "source": [
    "##### Validate the results using the RAND index and adjusted RAND index with k values from 5 to 15 and summarize the results in a tabular format."
   ]
  },
  {
   "cell_type": "code",
   "execution_count": 12,
   "metadata": {},
   "outputs": [
    {
     "name": "stdout",
     "output_type": "stream",
     "text": [
      "  K Value    RAND Index    Adjusted RAND Index\n",
      "---------  ------------  ---------------------\n",
      "        5      0.759429               0.212436\n",
      "\n",
      "\n",
      "  K Value    RAND Index    Adjusted RAND Index\n",
      "---------  ------------  ---------------------\n",
      "        6      0.824444               0.256322\n",
      "\n",
      "\n",
      "  K Value    RAND Index    Adjusted RAND Index\n",
      "---------  ------------  ---------------------\n",
      "        7      0.787623               0.219692\n",
      "\n",
      "\n",
      "  K Value    RAND Index    Adjusted RAND Index\n",
      "---------  ------------  ---------------------\n",
      "        8      0.798864               0.229001\n",
      "\n",
      "\n",
      "  K Value    RAND Index    Adjusted RAND Index\n",
      "---------  ------------  ---------------------\n",
      "        9      0.850392               0.270137\n",
      "\n",
      "\n",
      "  K Value    RAND Index    Adjusted RAND Index\n",
      "---------  ------------  ---------------------\n",
      "       10      0.862149               0.284221\n",
      "\n",
      "\n",
      "  K Value    RAND Index    Adjusted RAND Index\n",
      "---------  ------------  ---------------------\n",
      "       11       0.85618               0.286786\n",
      "\n",
      "\n",
      "  K Value    RAND Index    Adjusted RAND Index\n",
      "---------  ------------  ---------------------\n",
      "       12      0.869812               0.301096\n",
      "\n",
      "\n",
      "  K Value    RAND Index    Adjusted RAND Index\n",
      "---------  ------------  ---------------------\n",
      "       13      0.864381               0.296363\n",
      "\n",
      "\n",
      "  K Value    RAND Index    Adjusted RAND Index\n",
      "---------  ------------  ---------------------\n",
      "       14      0.876398               0.312901\n",
      "\n",
      "\n",
      "  K Value    RAND Index    Adjusted RAND Index\n",
      "---------  ------------  ---------------------\n",
      "       15      0.874023               0.281498\n",
      "\n",
      "\n",
      "\n",
      "\n",
      "Best K: 14\n"
     ]
    }
   ],
   "source": [
    "Best_K=0\n",
    "Adjust_RAND=0\n",
    "\n",
    "for k in range(5,16):\n",
    "    number_of_clusters = k\n",
    "    kmeans = K_Means(k)\n",
    "    \n",
    "    y_pred=[]    \n",
    "    kmeans.fit(train_pca)\n",
    "    for valp in val_pca:\n",
    "        a=kmeans.predict(valp)\n",
    "        y_pred.append(a)\n",
    "   \n",
    "    rand_score=rand_index(y_val,y_pred)\n",
    "    scorerand=adjusted_rand_score(y_val, y_pred)\n",
    "    \n",
    "    data = [['K Value','RAND Index','Adjusted RAND Index'],[k,rand_score,scorerand]]\n",
    "    print(tabulate(data, headers='firstrow'))\n",
    "    print('\\n')\n",
    "    \n",
    "    if(Adjust_RAND<rand_score):\n",
    "        Adjust_RAND=rand_score\n",
    "        Best_K=k\n",
    "    \n",
    "print('\\n\\nBest K:', Best_K)"
   ]
  },
  {
   "cell_type": "markdown",
   "metadata": {},
   "source": [
    "##### Run the algorithm 5 times over the Fashion-MNIST dataset with the best k value from the previous step, each time using a different initialization & report RAND index and adjusted RAND Score."
   ]
  },
  {
   "cell_type": "code",
   "execution_count": 13,
   "metadata": {},
   "outputs": [
    {
     "name": "stdout",
     "output_type": "stream",
     "text": [
      "  Run    RAND Index    Adjusted RAND Index\n",
      "-----  ------------  ---------------------\n",
      "    0      0.881036                 0.3399\n",
      "\n",
      "\n",
      "  Run    RAND Index    Adjusted RAND Index\n",
      "-----  ------------  ---------------------\n",
      "    1      0.879178               0.331165\n",
      "\n",
      "\n",
      "  Run    RAND Index    Adjusted RAND Index\n",
      "-----  ------------  ---------------------\n",
      "    2      0.873188               0.346019\n",
      "\n",
      "\n",
      "  Run    RAND Index    Adjusted RAND Index\n",
      "-----  ------------  ---------------------\n",
      "    3      0.892339               0.385139\n",
      "\n",
      "\n",
      "  Run    RAND Index    Adjusted RAND Index\n",
      "-----  ------------  ---------------------\n",
      "    4      0.870908               0.340228\n",
      "\n",
      "\n",
      "  Run    RAND Index    Adjusted RAND Index\n",
      "-----  ------------  ---------------------\n",
      "    5      0.893311               0.385637\n",
      "\n",
      "\n"
     ]
    }
   ],
   "source": [
    "Y_Test_features=Y_Test_features.values.tolist()\n",
    "for i in range(0,6):\n",
    "    kmeans = K_Means(Best_K)\n",
    "    kmeans.fit(train_pca)\n",
    "    y_pred=[]\n",
    "    \n",
    "    for valt in test_pca:\n",
    "        a=kmeans.predict(valt)\n",
    "        y_pred.append(a)\n",
    "    \n",
    "    rand_score=rand_index(Y_Test_features,y_pred)\n",
    "    scorerand=adjusted_rand_score(Y_Test_features, y_pred)\n",
    "    \n",
    "    data = [['Run','RAND Index','Adjusted RAND Index'],[i,rand_score,scorerand]]\n",
    "    print(tabulate(data, headers='firstrow'))\n",
    "    print('\\n') "
   ]
  },
  {
   "cell_type": "markdown",
   "metadata": {},
   "source": [
    "### Fndings During Experiments:"
   ]
  },
  {
   "cell_type": "markdown",
   "metadata": {},
   "source": [
    "##### K-Means Clustering is relatively simple to implement and scales to large data sets, and easy to interpret the clustering results. It guarantees convergence & can warm-start the positions of centroids. Easily adapts to new examples. On the other hand, due to random choice of clustering, K-Means Clustering suffers from inconsistency. Handles only numerical data, & the number of clusters needs to be specified for effective clustering."
   ]
  }
 ],
 "metadata": {
  "kernelspec": {
   "display_name": "Python 3",
   "language": "python",
   "name": "python3"
  },
  "language_info": {
   "codemirror_mode": {
    "name": "ipython",
    "version": 3
   },
   "file_extension": ".py",
   "mimetype": "text/x-python",
   "name": "python",
   "nbconvert_exporter": "python",
   "pygments_lexer": "ipython3",
   "version": "3.6.8"
  }
 },
 "nbformat": 4,
 "nbformat_minor": 4
}
